{
 "cells": [
  {
   "cell_type": "code",
   "execution_count": 2,
   "metadata": {
    "collapsed": false,
    "deletable": true,
    "editable": true,
    "scrolled": false
   },
   "outputs": [],
   "source": [
    "import os\n",
    "import sys\n",
    "import re\n",
    "import bareos.bsock\n",
    "import psycopg2\n",
    "import psycopg2.extras\n",
    "import nmap\n",
    "\n",
    "from datetime import timedelta, datetime, date, time\n"
   ]
  },
  {
   "cell_type": "code",
   "execution_count": 3,
   "metadata": {
    "collapsed": true,
    "deletable": true,
    "editable": true
   },
   "outputs": [],
   "source": [
    "def confFileList():\n",
    "    ## Import workstation/laptop config files, remove .conf extension, sort alphabetically\n",
    "    \n",
    "    clientPath = '/etc/bareos/bareos-dir.d/client/'\n",
    "    compRX = re.compile(r'(?i)(^.*(\\-(wks|lt))\\.conf$)', re.MULTILINE)\n",
    "\n",
    "    file_list = next(os.walk(clientPath))[2]\n",
    "    file_list = [ file.split('.',1)[0] for file in file_list if re.match(compRX, file) ]\n",
    "    file_list.sort()\n",
    "    return file_list"
   ]
  },
  {
   "cell_type": "code",
   "execution_count": 4,
   "metadata": {
    "collapsed": false,
    "deletable": true,
    "editable": true,
    "scrolled": true
   },
   "outputs": [],
   "source": [
    "def NMScan(client):\n",
    "    ## scan the specified client to see if port 9102 (bareos) is open\n",
    "    ## return the state\n",
    "    \n",
    "    nm = nmap.PortScanner()\n",
    "    nm_args = '-Pn -sT -p 9102'\n",
    "\n",
    "    nm.scan(hosts=client, arguments=nm_args)\n",
    "   \n",
    "    try:\n",
    "        host = nm.all_hosts()[0]\n",
    "        proto = nm[host].all_protocols()[0]\n",
    "        lport = nm[host][proto].keys()\n",
    "        port = lport[0]\n",
    "        state = nm[host][proto][port]['state']\n",
    "    except:\n",
    "        state = 'none'\n",
    "    \n",
    "    return state\n",
    "    "
   ]
  },
  {
   "cell_type": "code",
   "execution_count": 5,
   "metadata": {
    "collapsed": false,
    "deletable": true,
    "editable": true,
    "scrolled": true
   },
   "outputs": [],
   "source": [
    "def JobStatus(client):\n",
    "    ## connect to bareos database\n",
    "    ## look for jobs related to specific client with status of Complete (\"T\") or Complete with Warnings (\"W)\n",
    "    conn_string = \"host='localhost' dbname='bareos' user='bareosquery' password='vJd58c2C'\"\n",
    "    conn = psycopg2.connect(conn_string)\n",
    "    cursor = conn.cursor(cursor_factory=psycopg2.extras.DictCursor)\n",
    "    \n",
    "    cursor.execute(\"\"\"select * from job where name LIKE %s AND (jobstatus like 'T' OR jobstatus like 'W') order by endtime \"\"\", (client,))\n",
    "\n",
    "    x = cursor.fetchall()\n",
    "    if cursor.rowcount > 1:\n",
    "        ## if jobs are found with the proper status, find the last row and get the job's end time\n",
    "        row = x[(cursor.rowcount)-1]\n",
    "\n",
    "        jendTime = datetime.date(row[\"endtime\"])\n",
    "        delta = datetime.date(now) - jendTime\n",
    "\n",
    "        #print delta\n",
    "        if delta > timedelta(days=7):\n",
    "            ## if the job ran more than a week ago, run a backup\n",
    "            print ('JobID: %s\\tName: %s\\tEnd Time: %s\\nStatus: %s\\tErrors: %s' % (row[\"jobid\"], row[\"name\"], row[\"endtime\"], row[\"jobstatus\"], row[\"joberrors\"]))\n",
    "            runBareosJob(client)\n",
    "        else:\n",
    "            ## otherwise skip it\n",
    "            print ('Job has been run in past 7 days for %s' % (client,))\n",
    "    else:\n",
    "        ## if NO jobs were found for a client with an active bareos connection, then run a backup\n",
    "        print ('Job needs to run for %s' % (client,))\n",
    "        runBareosJob(client)"
   ]
  },
  {
   "cell_type": "code",
   "execution_count": 6,
   "metadata": {
    "collapsed": false,
    "deletable": true,
    "editable": true,
    "scrolled": false
   },
   "outputs": [],
   "source": [
    "def runBareosJob(client):\n",
    "    ## get the bareos password from the director's configuration file\n",
    "    bPassRX = re.compile(r'^\\ +Password\\ =\\ \\\"(.*)\\\"', re.MULTILINE)\n",
    "    dirPFind = bPassRX.findall(open('/etc/bareos/bareos-dir.d/director/bareos-dir.conf').read())\n",
    "    password = bareos.bsock.Password(dirPFind[0])\n",
    "\n",
    "    ## run a backup job for the specified client\n",
    "    directorconsole = bareos.bsock.DirectorConsole(address=\"localhost\", port=9101, password=password)\n",
    "    print directorconsole.call(\"run job=\"+ client + \" yes\")\n"
   ]
  },
  {
   "cell_type": "code",
   "execution_count": 7,
   "metadata": {
    "collapsed": false,
    "deletable": true,
    "editable": true,
    "scrolled": false
   },
   "outputs": [],
   "source": [
    "def main():\n",
    "    global now \n",
    "    now = datetime.now()\n",
    "    \n",
    "    for file in confFileList():\n",
    "        if NMScan(file) == \"open\": ## run a scan on hosts listed by configuration file\n",
    "            JobStatus(file) ## get the latest job status, and run a backup depending on outcome\n",
    "    "
   ]
  },
  {
   "cell_type": "code",
   "execution_count": 8,
   "metadata": {
    "collapsed": false,
    "deletable": true,
    "editable": true,
    "scrolled": true
   },
   "outputs": [
    {
     "name": "stdout",
     "output_type": "stream",
     "text": [
      "Job has been run in past 7 days for agilbertson-wks\n",
      "Job has been run in past 7 days for astephens-lt\n",
      "Job has been run in past 7 days for btrianta-wks\n",
      "Job has been run in past 7 days for cingram-lt\n",
      "Job has been run in past 7 days for cmiskovic-lt\n",
      "Job has been run in past 7 days for e6530loaner-lt\n",
      "Job has been run in past 7 days for gpioppi-lt\n",
      "Job has been run in past 7 days for hwebster-lt\n",
      "Job has been run in past 7 days for kfrangiosa-lt\n",
      "Job has been run in past 7 days for lbartow-lt\n",
      "Job has been run in past 7 days for lwapnitsky-lt\n",
      "Job has been run in past 7 days for nicole-lt\n",
      "Job has been run in past 7 days for tdunn2-lt\n"
     ]
    }
   ],
   "source": [
    "if __name__ == \"__main__\":\n",
    "    main()"
   ]
  },
  {
   "cell_type": "code",
   "execution_count": null,
   "metadata": {
    "collapsed": true,
    "deletable": true,
    "editable": true
   },
   "outputs": [],
   "source": []
  }
 ],
 "metadata": {
  "kernelspec": {
   "display_name": "Python 2",
   "language": "python",
   "name": "python2"
  },
  "language_info": {
   "codemirror_mode": {
    "name": "ipython",
    "version": 2
   },
   "file_extension": ".py",
   "mimetype": "text/x-python",
   "name": "python",
   "nbconvert_exporter": "python",
   "pygments_lexer": "ipython2",
   "version": "2.7.12"
  }
 },
 "nbformat": 4,
 "nbformat_minor": 2
}
