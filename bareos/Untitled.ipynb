{
 "cells": [
  {
   "cell_type": "code",
   "execution_count": 3,
   "metadata": {
    "collapsed": true
   },
   "outputs": [],
   "source": [
    "import re\n",
    "import nmap"
   ]
  },
  {
   "cell_type": "code",
   "execution_count": 4,
   "metadata": {
    "collapsed": true
   },
   "outputs": [],
   "source": [
    "def NMScan(client):\n",
    "    ## scan the specified client to see if port 9102 (bareos) is open\n",
    "    ## return the state\n",
    "    \n",
    "    nm = nmap.PortScanner()\n",
    "    nm_args = '-Pn -sT -p 9102'\n",
    "\n",
    "    nm.scan(hosts=client, arguments=nm_args)\n",
    "   \n",
    "    try:\n",
    "        host = nm.all_hosts()[0]\n",
    "        proto = nm[host].all_protocols()[0]\n",
    "        lport = nm[host][proto].keys()\n",
    "        port = lport[0]\n",
    "        state = nm[host][proto][port]['state']\n",
    "    except:\n",
    "        state = 'none'\n",
    "    \n",
    "    return state\n",
    "    "
   ]
  },
  {
   "cell_type": "code",
   "execution_count": 5,
   "metadata": {
    "collapsed": false,
    "scrolled": true
   },
   "outputs": [
    {
     "data": {
      "text/plain": [
       "'closed'"
      ]
     },
     "execution_count": 5,
     "metadata": {},
     "output_type": "execute_result"
    }
   ],
   "source": [
    "NMScan('mstrassman-lt')"
   ]
  }
 ],
 "metadata": {
  "kernelspec": {
   "display_name": "Python 2",
   "language": "python",
   "name": "python2"
  },
  "language_info": {
   "codemirror_mode": {
    "name": "ipython",
    "version": 2
   },
   "file_extension": ".py",
   "mimetype": "text/x-python",
   "name": "python",
   "nbconvert_exporter": "python",
   "pygments_lexer": "ipython2",
   "version": "2.7.12"
  }
 },
 "nbformat": 4,
 "nbformat_minor": 2
}
