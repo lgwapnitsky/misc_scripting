{
 "cells": [
  {
   "cell_type": "code",
   "execution_count": 8,
   "metadata": {
    "collapsed": true,
    "deletable": true,
    "editable": true
   },
   "outputs": [],
   "source": [
    "import os\n",
    "import sys\n",
    "import re\n",
    "import bareos.bsock\n",
    "\n",
    "\n",
    "from datetime import timedelta, datetime, date, time"
   ]
  },
  {
   "cell_type": "code",
   "execution_count": 15,
   "metadata": {
    "collapsed": false,
    "deletable": true,
    "editable": true
   },
   "outputs": [],
   "source": [
    "def testClientName(client):\n",
    "    ## get the bareos password from the director's configuration file\n",
    "    bPassRX = re.compile(r'^\\ +Password\\ =\\ \\\"(.*)\\\"', re.MULTILINE)\n",
    "    dirPFind = bPassRX.findall(open('/etc/bareos/bareos-dir.d/director/bareos-dir.conf').read())\n",
    "    password = bareos.bsock.Password(dirPFind[0])\n",
    "\n",
    "    directorconsole = bareos.bsock.DirectorConsole(address=\"localhost\", port=9101, password=password)\n",
    "    \n",
    "    #print client\n",
    "    \n",
    "    x = (bytes(directorconsole.call(\"status client=\"+ client + '-fd')).split('\\n'))\n",
    "       \n",
    "    fd_rx = re.compile(r\"^(\" + re.escape(client) + r\"\\-fd)\", re.IGNORECASE)\n",
    "    \n",
    "    #print fd_rx.pattern\n",
    "    \n",
    "    #for line in x:\n",
    "    #    print line\n",
    "    #    if fd_rx.search(line):\n",
    "    #        val = True\n",
    "    #        break\n",
    "    #    else:\n",
    "            #print line\n",
    "    #        correct_rx = re.compile(r\"^(.*\\-lt|wks)\\-fd\", re.IGNORECASE)\n",
    "    #        matches = correct_rx.findall(line)\n",
    "    #        if matches:\n",
    "    #            print matches[0]\n",
    "    #            val = str(matches[0]).lower()\n",
    "    #return val\n",
    "\n",
    "    # test to see if client name matches one that is called\n",
    "    clientInfo = (bytes(directorconsole.call(\"status client=\"+ client + '-fd')).split('\\n'))\n",
    "    fd_rx = re.compile(r\"^(\" + re.escape(client) + r\"\\-fd)\", re.IGNORECASE)\n",
    "\n",
    "    for line in clientInfo:\n",
    "        # print line\n",
    "        if fd_rx.search(line):\n",
    "            ## run a backup job for the specified client\n",
    "            print line\n",
    "            print \"Running %s\" % client\n",
    "            #print directorconsole.call(\"run job=\"+ client + \" yes\")\n",
    "            break\n",
    "        else:\n",
    "            correct_rx = re.compile(r\"^(.*\\-lt|wks)\\-fd\\ Version\", re.IGNORECASE|re.MULTILINE)\n",
    "            matches = correct_rx.findall(line)\n",
    "            if matches:\n",
    "                print line\n",
    "                #print matches[0]\n",
    "                val = str(matches[0]).lower()\n",
    "                print val\n",
    "                print \"client should be %s\" % (val)\n",
    "                #runBareosJob(val)\n",
    "                \n",
    "                #break\n",
    "                #testClientName(val)"
   ]
  },
  {
   "cell_type": "code",
   "execution_count": 16,
   "metadata": {
    "collapsed": false,
    "deletable": true,
    "editable": true
   },
   "outputs": [],
   "source": [
    "def main():\n",
    "    global now \n",
    "    now = datetime.now()\n",
    "    clientName = testClientName('svats-lt')\n",
    "    #if clientName == True:\n",
    "    #    print \"Valid Client %s\" % clientName\n",
    "    #elif clientName == False:\n",
    "    #    print \"Client  is unavailable\"\n",
    "    #else:\n",
    "    #    print \"Invalid Client. Checking %s\" % clientName\n",
    "    #    testClientName(clientName)\n"
   ]
  },
  {
   "cell_type": "code",
   "execution_count": 17,
   "metadata": {
    "collapsed": false,
    "deletable": true,
    "editable": true,
    "scrolled": true
   },
   "outputs": [
    {
     "name": "stdout",
     "output_type": "stream",
     "text": [
      "CMISKOVIC-LT-fd Version: 16.2.4 (01 July 2016)  VSS Linux Cross-compile Win64\n",
      "cmiskovic-lt\n",
      "client should be cmiskovic-lt\n"
     ]
    }
   ],
   "source": [
    "if __name__ == \"__main__\":\n",
    "    main()"
   ]
  },
  {
   "cell_type": "code",
   "execution_count": null,
   "metadata": {
    "collapsed": true,
    "deletable": true,
    "editable": true
   },
   "outputs": [],
   "source": []
  },
  {
   "cell_type": "code",
   "execution_count": null,
   "metadata": {
    "collapsed": true,
    "deletable": true,
    "editable": true
   },
   "outputs": [],
   "source": []
  }
 ],
 "metadata": {
  "kernelspec": {
   "display_name": "Python 2",
   "language": "python",
   "name": "python2"
  },
  "language_info": {
   "codemirror_mode": {
    "name": "ipython",
    "version": 2
   },
   "file_extension": ".py",
   "mimetype": "text/x-python",
   "name": "python",
   "nbconvert_exporter": "python",
   "pygments_lexer": "ipython2",
   "version": "2.7.12"
  }
 },
 "nbformat": 4,
 "nbformat_minor": 2
}
