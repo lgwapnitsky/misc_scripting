{
 "cells": [
  {
   "cell_type": "code",
   "execution_count": 348,
   "metadata": {
    "collapsed": true,
    "deletable": true,
    "editable": true
   },
   "outputs": [],
   "source": [
    "import os\n",
    "import sys\n",
    "import re\n",
    "import bareos.bsock\n",
    "\n",
    "\n",
    "from datetime import timedelta, datetime, date, time"
   ]
  },
  {
   "cell_type": "code",
   "execution_count": 349,
   "metadata": {
    "collapsed": false,
    "deletable": true,
    "editable": true
   },
   "outputs": [],
   "source": [
    "def testClientName(client):\n",
    "    ## get the bareos password from the director's configuration file\n",
    "    bPassRX = re.compile(r'^\\ +Password\\ =\\ \\\"(.*)\\\"', re.MULTILINE)\n",
    "    dirPFind = bPassRX.findall(open('/etc/bareos/bareos-dir.d/director/bareos-dir.conf').read())\n",
    "    password = bareos.bsock.Password(dirPFind[0])\n",
    "\n",
    "    directorconsole = bareos.bsock.DirectorConsole(address=\"localhost\", port=9101, password=password)\n",
    "    \n",
    "    #print client\n",
    "    \n",
    "    x = (bytes(directorconsole.call(\"status client=\"+ client + '-fd')).split('\\n'))\n",
    "       \n",
    "    fd_rx = re.compile(r\"^(\" + re.escape(client) + r\"\\-fd)\", re.IGNORECASE)\n",
    "    \n",
    "    #print fd_rx.pattern\n",
    "    \n",
    "    #for line in x:\n",
    "    #    print line\n",
    "    #    if fd_rx.search(line):\n",
    "    #        val = True\n",
    "    #        break\n",
    "    #    else:\n",
    "            #print line\n",
    "    #        correct_rx = re.compile(r\"^(.*\\-lt|wks)\\-fd\", re.IGNORECASE)\n",
    "    #        matches = correct_rx.findall(line)\n",
    "    #        if matches:\n",
    "    #            print matches[0]\n",
    "    #            val = str(matches[0]).lower()\n",
    "    #return val\n",
    "\n",
    "    # test to see if client name matches one that is called\n",
    "    clientInfo = (bytes(directorconsole.call(\"status client=\"+ client + '-fd')).split('\\n'))\n",
    "    fd_rx = re.compile(r\"^(\" + re.escape(client) + r\"\\-fd)\", re.IGNORECASE)\n",
    "\n",
    "    for line in clientInfo:\n",
    "        # print line\n",
    "        if fd_rx.search(line):\n",
    "            ## run a backup job for the specified client\n",
    "            print line\n",
    "            print \"Running %s\" % client\n",
    "            #print directorconsole.call(\"run job=\"+ client + \" yes\")\n",
    "            break\n",
    "        else:\n",
    "            correct_rx = re.compile(r\"^(.*\\-lt|wks)\\-fd\", re.IGNORECASE)\n",
    "            matches = correct_rx.findall(line)\n",
    "            if matches:\n",
    "                print line\n",
    "                #print matches[0]\n",
    "                val = str(matches[0]).lower()\n",
    "                print val\n",
    "                print \"client should be %s\" % (val)\n",
    "                #runBareosJob(val)\n",
    "                \n",
    "                #break\n",
    "                testClientName(val)"
   ]
  },
  {
   "cell_type": "code",
   "execution_count": 350,
   "metadata": {
    "collapsed": false,
    "deletable": true,
    "editable": true
   },
   "outputs": [],
   "source": [
    "def main():\n",
    "    global now \n",
    "    now = datetime.now()\n",
    "    clientName = testClientName('rgarrett-lt')\n",
    "    #if clientName == True:\n",
    "    #    print \"Valid Client %s\" % clientName\n",
    "    #elif clientName == False:\n",
    "    #    print \"Client  is unavailable\"\n",
    "    #else:\n",
    "    #    print \"Invalid Client. Checking %s\" % clientName\n",
    "    #    testClientName(clientName)\n"
   ]
  },
  {
   "cell_type": "code",
   "execution_count": 351,
   "metadata": {
    "collapsed": false,
    "deletable": true,
    "editable": true,
    "scrolled": true
   },
   "outputs": [
    {
     "name": "stdout",
     "output_type": "stream",
     "text": [
      "Connecting to Client rgarrett-lt-fd at rgarrett-lt:9102\n",
      "connecting to client rgarrett-lt\n",
      "client should be connecting to client rgarrett-lt\n",
      "Expected a positive integer, got: status client=connecting to client rgarrett-lt-fd\n",
      "expected a positive integer, got: status client=connecting to client rgarrett-lt\n",
      "client should be expected a positive integer, got: status client=connecting to client rgarrett-lt\n",
      "Expected a positive integer, got: status client=expected a positive integer, got: status client=connecting to client rgarrett-lt-fd\n",
      "expected a positive integer, got: status client=expected a positive integer, got: status client=connecting to client rgarrett-lt\n",
      "client should be expected a positive integer, got: status client=expected a positive integer, got: status client=connecting to client rgarrett-lt\n",
      "Expected a positive integer, got: status client=expected a positive integer, got: status client=expected a positive integer, got: status client=connecting to client rgarrett-lt-fd\n",
      "expected a positive integer, got: status client=expected a positive integer, got: status client=expected a positive integer, got: status client=connecting to client rgarrett-lt\n",
      "client should be expected a positive integer, got: status client=expected a positive integer, got: status client=expected a positive integer, got: status client=connecting to client rgarrett-lt\n",
      "Expected a positive integer, got: status client=expected a positive integer, got: status client=expected a positive integer, got: status client=expected a positive integer, got: status client=connecting to client rgarrett-lt-fd\n",
      "expected a positive integer, got: status client=expected a positive integer, got: status client=expected a positive integer, got: status client=expected a positive integer, got: status client=connecting to client rgarrett-lt\n",
      "client should be expected a positive integer, got: status client=expected a positive integer, got: status client=expected a positive integer, got: status client=expected a positive integer, got: status client=connecting to client rgarrett-lt\n",
      "Expected a positive integer, got: status client=expected a positive integer, got: status client=expected a positive integer, got: status client=expected a positive integer, got: status client=expected a positive integer, got: status client=connecting to client rgarrett-lt-fd\n",
      "expected a positive integer, got: status client=expected a positive integer, got: status client=expected a positive integer, got: status client=expected a positive integer, got: status client=expected a positive integer, got: status client=connecting to client rgarrett-lt\n",
      "client should be expected a positive integer, got: status client=expected a positive integer, got: status client=expected a positive integer, got: status client=expected a positive integer, got: status client=expected a positive integer, got: status client=connecting to client rgarrett-lt\n",
      "Expected a positive integer, got: status client=expected a positive integer, got: status client=expected a positive integer, got: status client=expected a positive integer, got: status client=expected a positive integer, got: status client=expected a positive integer, got: status client=connecting to client rgarrett-lt-fd\n",
      "expected a positive integer, got: status client=expected a positive integer, got: status client=expected a positive integer, got: status client=expected a positive integer, got: status client=expected a positive integer, got: status client=expected a positive integer, got: status client=connecting to client rgarrett-lt\n",
      "client should be expected a positive integer, got: status client=expected a positive integer, got: status client=expected a positive integer, got: status client=expected a positive integer, got: status client=expected a positive integer, got: status client=expected a positive integer, got: status client=connecting to client rgarrett-lt\n"
     ]
    },
    {
     "ename": "AuthenticationError",
     "evalue": "failed (in response)",
     "output_type": "error",
     "traceback": [
      "\u001b[0;31m---------------------------------------------------------------------------\u001b[0m",
      "\u001b[0;31mAuthenticationError\u001b[0m                       Traceback (most recent call last)",
      "\u001b[0;32m<ipython-input-351-89026442c8a6>\u001b[0m in \u001b[0;36m<module>\u001b[0;34m()\u001b[0m\n\u001b[1;32m      1\u001b[0m \u001b[0;32mif\u001b[0m \u001b[0m__name__\u001b[0m \u001b[0;34m==\u001b[0m \u001b[0;34m\"__main__\"\u001b[0m\u001b[0;34m:\u001b[0m\u001b[0;34m\u001b[0m\u001b[0m\n\u001b[0;32m----> 2\u001b[0;31m     \u001b[0mmain\u001b[0m\u001b[0;34m(\u001b[0m\u001b[0;34m)\u001b[0m\u001b[0;34m\u001b[0m\u001b[0m\n\u001b[0m",
      "\u001b[0;32m<ipython-input-350-aa316246a629>\u001b[0m in \u001b[0;36mmain\u001b[0;34m()\u001b[0m\n\u001b[1;32m      2\u001b[0m     \u001b[0;32mglobal\u001b[0m \u001b[0mnow\u001b[0m\u001b[0;34m\u001b[0m\u001b[0m\n\u001b[1;32m      3\u001b[0m     \u001b[0mnow\u001b[0m \u001b[0;34m=\u001b[0m \u001b[0mdatetime\u001b[0m\u001b[0;34m.\u001b[0m\u001b[0mnow\u001b[0m\u001b[0;34m(\u001b[0m\u001b[0;34m)\u001b[0m\u001b[0;34m\u001b[0m\u001b[0m\n\u001b[0;32m----> 4\u001b[0;31m     \u001b[0mclientName\u001b[0m \u001b[0;34m=\u001b[0m \u001b[0mtestClientName\u001b[0m\u001b[0;34m(\u001b[0m\u001b[0;34m'rgarrett-lt'\u001b[0m\u001b[0;34m)\u001b[0m\u001b[0;34m\u001b[0m\u001b[0m\n\u001b[0m\u001b[1;32m      5\u001b[0m     \u001b[0;31m#if clientName == True:\u001b[0m\u001b[0;34m\u001b[0m\u001b[0;34m\u001b[0m\u001b[0m\n\u001b[1;32m      6\u001b[0m     \u001b[0;31m#    print \"Valid Client %s\" % clientName\u001b[0m\u001b[0;34m\u001b[0m\u001b[0;34m\u001b[0m\u001b[0m\n",
      "\u001b[0;32m<ipython-input-349-d06ba9d848a4>\u001b[0m in \u001b[0;36mtestClientName\u001b[0;34m(client)\u001b[0m\n\u001b[1;32m     53\u001b[0m \u001b[0;34m\u001b[0m\u001b[0m\n\u001b[1;32m     54\u001b[0m                 \u001b[0;31m#break\u001b[0m\u001b[0;34m\u001b[0m\u001b[0;34m\u001b[0m\u001b[0m\n\u001b[0;32m---> 55\u001b[0;31m                 \u001b[0mtestClientName\u001b[0m\u001b[0;34m(\u001b[0m\u001b[0mval\u001b[0m\u001b[0;34m)\u001b[0m\u001b[0;34m\u001b[0m\u001b[0m\n\u001b[0m",
      "\u001b[0;32m<ipython-input-349-d06ba9d848a4>\u001b[0m in \u001b[0;36mtestClientName\u001b[0;34m(client)\u001b[0m\n\u001b[1;32m     53\u001b[0m \u001b[0;34m\u001b[0m\u001b[0m\n\u001b[1;32m     54\u001b[0m                 \u001b[0;31m#break\u001b[0m\u001b[0;34m\u001b[0m\u001b[0;34m\u001b[0m\u001b[0m\n\u001b[0;32m---> 55\u001b[0;31m                 \u001b[0mtestClientName\u001b[0m\u001b[0;34m(\u001b[0m\u001b[0mval\u001b[0m\u001b[0;34m)\u001b[0m\u001b[0;34m\u001b[0m\u001b[0m\n\u001b[0m",
      "\u001b[0;32m<ipython-input-349-d06ba9d848a4>\u001b[0m in \u001b[0;36mtestClientName\u001b[0;34m(client)\u001b[0m\n\u001b[1;32m     53\u001b[0m \u001b[0;34m\u001b[0m\u001b[0m\n\u001b[1;32m     54\u001b[0m                 \u001b[0;31m#break\u001b[0m\u001b[0;34m\u001b[0m\u001b[0;34m\u001b[0m\u001b[0m\n\u001b[0;32m---> 55\u001b[0;31m                 \u001b[0mtestClientName\u001b[0m\u001b[0;34m(\u001b[0m\u001b[0mval\u001b[0m\u001b[0;34m)\u001b[0m\u001b[0;34m\u001b[0m\u001b[0m\n\u001b[0m",
      "\u001b[0;32m<ipython-input-349-d06ba9d848a4>\u001b[0m in \u001b[0;36mtestClientName\u001b[0;34m(client)\u001b[0m\n\u001b[1;32m     53\u001b[0m \u001b[0;34m\u001b[0m\u001b[0m\n\u001b[1;32m     54\u001b[0m                 \u001b[0;31m#break\u001b[0m\u001b[0;34m\u001b[0m\u001b[0;34m\u001b[0m\u001b[0m\n\u001b[0;32m---> 55\u001b[0;31m                 \u001b[0mtestClientName\u001b[0m\u001b[0;34m(\u001b[0m\u001b[0mval\u001b[0m\u001b[0;34m)\u001b[0m\u001b[0;34m\u001b[0m\u001b[0m\n\u001b[0m",
      "\u001b[0;32m<ipython-input-349-d06ba9d848a4>\u001b[0m in \u001b[0;36mtestClientName\u001b[0;34m(client)\u001b[0m\n\u001b[1;32m     53\u001b[0m \u001b[0;34m\u001b[0m\u001b[0m\n\u001b[1;32m     54\u001b[0m                 \u001b[0;31m#break\u001b[0m\u001b[0;34m\u001b[0m\u001b[0;34m\u001b[0m\u001b[0m\n\u001b[0;32m---> 55\u001b[0;31m                 \u001b[0mtestClientName\u001b[0m\u001b[0;34m(\u001b[0m\u001b[0mval\u001b[0m\u001b[0;34m)\u001b[0m\u001b[0;34m\u001b[0m\u001b[0m\n\u001b[0m",
      "\u001b[0;32m<ipython-input-349-d06ba9d848a4>\u001b[0m in \u001b[0;36mtestClientName\u001b[0;34m(client)\u001b[0m\n\u001b[1;32m     53\u001b[0m \u001b[0;34m\u001b[0m\u001b[0m\n\u001b[1;32m     54\u001b[0m                 \u001b[0;31m#break\u001b[0m\u001b[0;34m\u001b[0m\u001b[0;34m\u001b[0m\u001b[0m\n\u001b[0;32m---> 55\u001b[0;31m                 \u001b[0mtestClientName\u001b[0m\u001b[0;34m(\u001b[0m\u001b[0mval\u001b[0m\u001b[0;34m)\u001b[0m\u001b[0;34m\u001b[0m\u001b[0m\n\u001b[0m",
      "\u001b[0;32m<ipython-input-349-d06ba9d848a4>\u001b[0m in \u001b[0;36mtestClientName\u001b[0;34m(client)\u001b[0m\n\u001b[1;32m     53\u001b[0m \u001b[0;34m\u001b[0m\u001b[0m\n\u001b[1;32m     54\u001b[0m                 \u001b[0;31m#break\u001b[0m\u001b[0;34m\u001b[0m\u001b[0;34m\u001b[0m\u001b[0m\n\u001b[0;32m---> 55\u001b[0;31m                 \u001b[0mtestClientName\u001b[0m\u001b[0;34m(\u001b[0m\u001b[0mval\u001b[0m\u001b[0;34m)\u001b[0m\u001b[0;34m\u001b[0m\u001b[0m\n\u001b[0m",
      "\u001b[0;32m<ipython-input-349-d06ba9d848a4>\u001b[0m in \u001b[0;36mtestClientName\u001b[0;34m(client)\u001b[0m\n\u001b[1;32m      5\u001b[0m     \u001b[0mpassword\u001b[0m \u001b[0;34m=\u001b[0m \u001b[0mbareos\u001b[0m\u001b[0;34m.\u001b[0m\u001b[0mbsock\u001b[0m\u001b[0;34m.\u001b[0m\u001b[0mPassword\u001b[0m\u001b[0;34m(\u001b[0m\u001b[0mdirPFind\u001b[0m\u001b[0;34m[\u001b[0m\u001b[0;36m0\u001b[0m\u001b[0;34m]\u001b[0m\u001b[0;34m)\u001b[0m\u001b[0;34m\u001b[0m\u001b[0m\n\u001b[1;32m      6\u001b[0m \u001b[0;34m\u001b[0m\u001b[0m\n\u001b[0;32m----> 7\u001b[0;31m     \u001b[0mdirectorconsole\u001b[0m \u001b[0;34m=\u001b[0m \u001b[0mbareos\u001b[0m\u001b[0;34m.\u001b[0m\u001b[0mbsock\u001b[0m\u001b[0;34m.\u001b[0m\u001b[0mDirectorConsole\u001b[0m\u001b[0;34m(\u001b[0m\u001b[0maddress\u001b[0m\u001b[0;34m=\u001b[0m\u001b[0;34m\"localhost\"\u001b[0m\u001b[0;34m,\u001b[0m \u001b[0mport\u001b[0m\u001b[0;34m=\u001b[0m\u001b[0;36m9101\u001b[0m\u001b[0;34m,\u001b[0m \u001b[0mpassword\u001b[0m\u001b[0;34m=\u001b[0m\u001b[0mpassword\u001b[0m\u001b[0;34m)\u001b[0m\u001b[0;34m\u001b[0m\u001b[0m\n\u001b[0m\u001b[1;32m      8\u001b[0m \u001b[0;34m\u001b[0m\u001b[0m\n\u001b[1;32m      9\u001b[0m     \u001b[0;31m#print client\u001b[0m\u001b[0;34m\u001b[0m\u001b[0;34m\u001b[0m\u001b[0m\n",
      "\u001b[0;32m/usr/lib/python2.7/dist-packages/bareos/bsock/directorconsole.pyc\u001b[0m in \u001b[0;36m__init__\u001b[0;34m(self, address, port, dirname, name, password)\u001b[0m\n\u001b[1;32m     17\u001b[0m         \u001b[0msuper\u001b[0m\u001b[0;34m(\u001b[0m\u001b[0mDirectorConsole\u001b[0m\u001b[0;34m,\u001b[0m \u001b[0mself\u001b[0m\u001b[0;34m)\u001b[0m\u001b[0;34m.\u001b[0m\u001b[0m__init__\u001b[0m\u001b[0;34m(\u001b[0m\u001b[0;34m)\u001b[0m\u001b[0;34m\u001b[0m\u001b[0m\n\u001b[1;32m     18\u001b[0m         \u001b[0mself\u001b[0m\u001b[0;34m.\u001b[0m\u001b[0mconnect\u001b[0m\u001b[0;34m(\u001b[0m\u001b[0maddress\u001b[0m\u001b[0;34m,\u001b[0m \u001b[0mport\u001b[0m\u001b[0;34m,\u001b[0m \u001b[0mdirname\u001b[0m\u001b[0;34m,\u001b[0m \u001b[0mConnectionType\u001b[0m\u001b[0;34m.\u001b[0m\u001b[0mDIRECTOR\u001b[0m\u001b[0;34m)\u001b[0m\u001b[0;34m\u001b[0m\u001b[0m\n\u001b[0;32m---> 19\u001b[0;31m         \u001b[0mself\u001b[0m\u001b[0;34m.\u001b[0m\u001b[0mauth\u001b[0m\u001b[0;34m(\u001b[0m\u001b[0mname\u001b[0m\u001b[0;34m=\u001b[0m\u001b[0mname\u001b[0m\u001b[0;34m,\u001b[0m \u001b[0mpassword\u001b[0m\u001b[0;34m=\u001b[0m\u001b[0mpassword\u001b[0m\u001b[0;34m,\u001b[0m \u001b[0mauth_success_regex\u001b[0m\u001b[0;34m=\u001b[0m\u001b[0;34mb'^1000 OK.*$'\u001b[0m\u001b[0;34m)\u001b[0m\u001b[0;34m\u001b[0m\u001b[0m\n\u001b[0m\u001b[1;32m     20\u001b[0m         \u001b[0mself\u001b[0m\u001b[0;34m.\u001b[0m\u001b[0m_init_connection\u001b[0m\u001b[0;34m(\u001b[0m\u001b[0;34m)\u001b[0m\u001b[0;34m\u001b[0m\u001b[0m\n\u001b[1;32m     21\u001b[0m \u001b[0;34m\u001b[0m\u001b[0m\n",
      "\u001b[0;32m/usr/lib/python2.7/dist-packages/bareos/bsock/lowlevel.pyc\u001b[0m in \u001b[0;36mauth\u001b[0;34m(self, name, password, auth_success_regex)\u001b[0m\n\u001b[1;32m     75\u001b[0m         \u001b[0mself\u001b[0m\u001b[0;34m.\u001b[0m\u001b[0mname\u001b[0m \u001b[0;34m=\u001b[0m \u001b[0mname\u001b[0m\u001b[0;34m\u001b[0m\u001b[0m\n\u001b[1;32m     76\u001b[0m         \u001b[0mself\u001b[0m\u001b[0;34m.\u001b[0m\u001b[0mauth_success_regex\u001b[0m \u001b[0;34m=\u001b[0m \u001b[0mauth_success_regex\u001b[0m\u001b[0;34m\u001b[0m\u001b[0m\n\u001b[0;32m---> 77\u001b[0;31m         \u001b[0;32mreturn\u001b[0m \u001b[0mself\u001b[0m\u001b[0;34m.\u001b[0m\u001b[0m__auth\u001b[0m\u001b[0;34m(\u001b[0m\u001b[0;34m)\u001b[0m\u001b[0;34m\u001b[0m\u001b[0m\n\u001b[0m\u001b[1;32m     78\u001b[0m \u001b[0;34m\u001b[0m\u001b[0m\n\u001b[1;32m     79\u001b[0m \u001b[0;34m\u001b[0m\u001b[0m\n",
      "\u001b[0;32m/usr/lib/python2.7/dist-packages/bareos/bsock/lowlevel.pyc\u001b[0m in \u001b[0;36m__auth\u001b[0;34m(self)\u001b[0m\n\u001b[1;32m     85\u001b[0m         \u001b[0;34m(\u001b[0m\u001b[0mssl\u001b[0m\u001b[0;34m,\u001b[0m \u001b[0mresult_compatible\u001b[0m\u001b[0;34m,\u001b[0m \u001b[0mresult\u001b[0m\u001b[0;34m)\u001b[0m \u001b[0;34m=\u001b[0m \u001b[0mself\u001b[0m\u001b[0;34m.\u001b[0m\u001b[0m_cram_md5_respond\u001b[0m\u001b[0;34m(\u001b[0m\u001b[0mpassword\u001b[0m\u001b[0;34m=\u001b[0m\u001b[0mself\u001b[0m\u001b[0;34m.\u001b[0m\u001b[0mpassword\u001b[0m\u001b[0;34m.\u001b[0m\u001b[0mmd5\u001b[0m\u001b[0;34m(\u001b[0m\u001b[0;34m)\u001b[0m\u001b[0;34m,\u001b[0m \u001b[0mtls_remote_need\u001b[0m\u001b[0;34m=\u001b[0m\u001b[0;36m0\u001b[0m\u001b[0;34m)\u001b[0m\u001b[0;34m\u001b[0m\u001b[0m\n\u001b[1;32m     86\u001b[0m         \u001b[0;32mif\u001b[0m \u001b[0;32mnot\u001b[0m \u001b[0mresult\u001b[0m\u001b[0;34m:\u001b[0m\u001b[0;34m\u001b[0m\u001b[0m\n\u001b[0;32m---> 87\u001b[0;31m             \u001b[0;32mraise\u001b[0m \u001b[0mAuthenticationError\u001b[0m\u001b[0;34m(\u001b[0m\u001b[0;34m\"failed (in response)\"\u001b[0m\u001b[0;34m)\u001b[0m\u001b[0;34m\u001b[0m\u001b[0m\n\u001b[0m\u001b[1;32m     88\u001b[0m         \u001b[0;32mif\u001b[0m \u001b[0;32mnot\u001b[0m \u001b[0mself\u001b[0m\u001b[0;34m.\u001b[0m\u001b[0m_cram_md5_challenge\u001b[0m\u001b[0;34m(\u001b[0m\u001b[0mclientname\u001b[0m\u001b[0;34m=\u001b[0m\u001b[0mself\u001b[0m\u001b[0;34m.\u001b[0m\u001b[0mname\u001b[0m\u001b[0;34m,\u001b[0m \u001b[0mpassword\u001b[0m\u001b[0;34m=\u001b[0m\u001b[0mself\u001b[0m\u001b[0;34m.\u001b[0m\u001b[0mpassword\u001b[0m\u001b[0;34m.\u001b[0m\u001b[0mmd5\u001b[0m\u001b[0;34m(\u001b[0m\u001b[0;34m)\u001b[0m\u001b[0;34m,\u001b[0m \u001b[0mtls_local_need\u001b[0m\u001b[0;34m=\u001b[0m\u001b[0;36m0\u001b[0m\u001b[0;34m,\u001b[0m \u001b[0mcompatible\u001b[0m\u001b[0;34m=\u001b[0m\u001b[0mTrue\u001b[0m\u001b[0;34m)\u001b[0m\u001b[0;34m:\u001b[0m\u001b[0;34m\u001b[0m\u001b[0m\n\u001b[1;32m     89\u001b[0m             \u001b[0;32mraise\u001b[0m \u001b[0mAuthenticationError\u001b[0m\u001b[0;34m(\u001b[0m\u001b[0;34m\"failed (in challenge)\"\u001b[0m\u001b[0;34m)\u001b[0m\u001b[0;34m\u001b[0m\u001b[0m\n",
      "\u001b[0;31mAuthenticationError\u001b[0m: failed (in response)"
     ]
    }
   ],
   "source": [
    "if __name__ == \"__main__\":\n",
    "    main()"
   ]
  },
  {
   "cell_type": "code",
   "execution_count": null,
   "metadata": {
    "collapsed": true,
    "deletable": true,
    "editable": true
   },
   "outputs": [],
   "source": []
  },
  {
   "cell_type": "code",
   "execution_count": null,
   "metadata": {
    "collapsed": true
   },
   "outputs": [],
   "source": []
  }
 ],
 "metadata": {
  "kernelspec": {
   "display_name": "Python 2",
   "language": "python",
   "name": "python2"
  },
  "language_info": {
   "codemirror_mode": {
    "name": "ipython",
    "version": 2
   },
   "file_extension": ".py",
   "mimetype": "text/x-python",
   "name": "python",
   "nbconvert_exporter": "python",
   "pygments_lexer": "ipython2",
   "version": "2.7.12"
  }
 },
 "nbformat": 4,
 "nbformat_minor": 2
}
