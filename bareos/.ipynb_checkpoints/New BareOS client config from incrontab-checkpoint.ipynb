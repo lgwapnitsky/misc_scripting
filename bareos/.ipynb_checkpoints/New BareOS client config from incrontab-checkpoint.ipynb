{
 "cells": [
  {
   "cell_type": "code",
   "execution_count": null,
   "metadata": {
    "collapsed": true
   },
   "outputs": [],
   "source": [
    "#!/usr/bin/python"
   ]
  },
  {
   "cell_type": "code",
   "execution_count": 31,
   "metadata": {
    "collapsed": false
   },
   "outputs": [],
   "source": [
    "import os\n",
    "import sys\n",
    "import re\n",
    "import bareos.bsock\n",
    "\n",
    "from pwd import getpwnam\n",
    "from shutil import copyfile\n"
   ]
  },
  {
   "cell_type": "code",
   "execution_count": 32,
   "metadata": {
    "collapsed": false
   },
   "outputs": [],
   "source": [
    "clientPath = '/etc/bareos/bareos-dir.d/client/'\n",
    "baseConf = 'base.conf.dist'\n",
    "\n",
    "BareOSClientDropPath = '/opt/BareOSClientDrop/'\n",
    "\n",
    "bInfo = getpwnam('bareos')"
   ]
  },
  {
   "cell_type": "code",
   "execution_count": 33,
   "metadata": {
    "collapsed": false
   },
   "outputs": [],
   "source": [
    "file_list = next(os.walk(BareOSClientDropPath))[2]\n",
    "\n",
    "sysRX = re.compile(r'(?i)(^.*(\\-(wks$|lt$)))', re.MULTILINE)\n",
    "for file in file_list:\n",
    "    if re.match(sysRX, file):\n",
    "        confFile = clientPath + file + '.conf'\n",
    "        copyfile (clientPath+baseConf, confFile)\n",
    "        with open(confFile, 'r+') as newConf:\n",
    "            conf = newConf.read()\n",
    "            conf = re.sub('XXXXXX', file, conf)\n",
    "            newConf.seek(0)\n",
    "            newConf.write(conf)\n",
    "            newConf.truncate()\n",
    "            os.chown(confFile, bInfo.pw_uid, bInfo.pw_gid)\n",
    "            os.remove(BareOSClientDropPath + file)"
   ]
  },
  {
   "cell_type": "code",
   "execution_count": 34,
   "metadata": {
    "collapsed": false
   },
   "outputs": [
    {
     "name": "stdout",
     "output_type": "stream",
     "text": [
      "reloaded\n",
      "\n",
      "Using Catalog \"MyCatalog\"\n",
      "Job queued. JobId=108\n",
      "You have messages.\n",
      "\n"
     ]
    }
   ],
   "source": [
    "bPassRX = re.compile(r'^\\ +Password\\ =\\ \\\"(.*)\\\"', re.MULTILINE)\n",
    "\n",
    "dirPFind = bPassRX.findall(open('/etc/bareos/bareos-dir.d/director/bareos-dir.conf').read())\n",
    "password = bareos.bsock.Password(dirPFind[0])\n",
    "directorconsole = bareos.bsock.DirectorConsole(address=\"localhost\", port=9101, password=password)\n",
    "print directorconsole.call(\"reload\")\n",
    "print directorconsole.call(\"run \"+ \"job=\"+ file + \" yes\")"
   ]
  }
 ],
 "metadata": {
  "kernelspec": {
   "display_name": "Python 2",
   "language": "python",
   "name": "python2"
  },
  "language_info": {
   "codemirror_mode": {
    "name": "ipython",
    "version": 2
   },
   "file_extension": ".py",
   "mimetype": "text/x-python",
   "name": "python",
   "nbconvert_exporter": "python",
   "pygments_lexer": "ipython2",
   "version": "2.7.12"
  }
 },
 "nbformat": 4,
 "nbformat_minor": 2
}
